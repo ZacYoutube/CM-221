{
 "cells": [
  {
   "cell_type": "code",
   "execution_count": 2,
   "metadata": {},
   "outputs": [],
   "source": [
    "#E[F|l] = sum of f = 1 to li of f * P(F = f)\n",
    "import math\n",
    "def effective_length_(transcript_length, miu, sigma):\n",
    "    expected_F_on_l = 0\n",
    "    sum = 0\n",
    "    for f in range(1, transcript_length + 1):\n",
    "        sum += (math.exp((f - miu)**2 /(2 * sigma**2)* (-1)))\n",
    "\n",
    "    normalizing_const = 1.0 / sum\n",
    "\n",
    "    for f in range(1, transcript_length + 1):\n",
    "        expected_F_on_l += f * normalizing_const * (math.exp((f - miu)**2 /(2 * sigma**2)* (-1)))\n",
    "\n",
    "    expected_effective_length = transcript_length - expected_F_on_l + 1\n",
    "    \n",
    "    return expected_effective_length\n"
   ]
  },
  {
   "cell_type": "code",
   "execution_count": 3,
   "metadata": {},
   "outputs": [
    {
     "name": "stdout",
     "output_type": "stream",
     "text": [
      "800.9999999999999\n"
     ]
    }
   ],
   "source": [
    "#(a) li = 1000, µ = 200, σ = 20,\n",
    "\n",
    "print(effective_length_(1000, 200, 20))"
   ]
  },
  {
   "cell_type": "code",
   "execution_count": 4,
   "metadata": {},
   "outputs": [
    {
     "name": "stdout",
     "output_type": "stream",
     "text": [
      "795.418280719455\n"
     ]
    }
   ],
   "source": [
    "#(b) li = 1000, µ = 200, σ = 100.\n",
    "\n",
    "print(effective_length_(1000, 200, 100))"
   ]
  }
 ],
 "metadata": {
  "interpreter": {
   "hash": "3d597f4c481aa0f25dceb95d2a0067e73c0966dcbd003d741d821a7208527ecf"
  },
  "kernelspec": {
   "display_name": "Python 3.9.5 64-bit ('base': conda)",
   "language": "python",
   "name": "python3"
  },
  "language_info": {
   "codemirror_mode": {
    "name": "ipython",
    "version": 3
   },
   "file_extension": ".py",
   "mimetype": "text/x-python",
   "name": "python",
   "nbconvert_exporter": "python",
   "pygments_lexer": "ipython3",
   "version": "3.9.5"
  },
  "orig_nbformat": 4
 },
 "nbformat": 4,
 "nbformat_minor": 2
}
