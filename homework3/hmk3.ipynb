{
 "cells": [
  {
   "cell_type": "code",
   "execution_count": 1,
   "metadata": {},
   "outputs": [],
   "source": [
    "import math"
   ]
  },
  {
   "cell_type": "markdown",
   "metadata": {},
   "source": [
    "### (a). Using the partition function and β = 0.5 compute the E-step and show the Hidden\u0002Matrix."
   ]
  },
  {
   "cell_type": "code",
   "execution_count": 19,
   "metadata": {},
   "outputs": [
    {
     "data": {
      "text/plain": [
       "[[0.3267511728523752,\n",
       "  0.3050994280684201,\n",
       "  0.28508404512158053,\n",
       "  0.33700778468570974,\n",
       "  0.33914505262395894,\n",
       "  0.26634685780600265],\n",
       " [0.3707737892616577,\n",
       "  0.3898011438631598,\n",
       "  0.4090188548359777,\n",
       "  0.28271736237522366,\n",
       "  0.28656516573360846,\n",
       "  0.33110868964673695],\n",
       " [0.3024750378859669,\n",
       "  0.30509942806842016,\n",
       "  0.30589710004244164,\n",
       "  0.3802748529390666,\n",
       "  0.3742897816424327,\n",
       "  0.4025444525472604]]"
      ]
     },
     "execution_count": 19,
     "metadata": {},
     "output_type": "execute_result"
    }
   ],
   "source": [
    "data_j = [[0.1, 0.2],[0.2, 0.1],[0.3, 0],[1, 1.2],[0.8, 1],[9, 0.1]]\n",
    "cluster_c = [[0.1, 0.9], [0.5, 0], [0.9, 0.5]]\n",
    "beta = 0.5\n",
    "\n",
    "def _partition_function(beta, data, center):\n",
    "    return math.e**(-beta * _find_distance(data, center))\n",
    "\n",
    "def _find_distance(point1, point2):\n",
    "    return math.sqrt((point1[0]-point2[0])**2 + (point1[1] - point2[1])**2)\n",
    "\n",
    "def _sum(data, center, beta):\n",
    "    sum = 0\n",
    "    for i in center:\n",
    "        sum += _partition_function(beta=beta, data=data, center=i)\n",
    "\n",
    "    return sum\n",
    "\n",
    "def _dot_product(a, b):\n",
    "    dot_product=0\n",
    "    for a,b in zip(a,b):\n",
    "        dot_product += a*b\n",
    "\n",
    "    return dot_product\n",
    "\n",
    "def _E_step_a(data, center, beta):\n",
    "    hidden_matrix = [[0]*6 for i in range(3)]\n",
    "\n",
    "    for i in range(len(center)):\n",
    "        for j in range(len(data)):\n",
    "            sum = _sum(data[j], center, beta)\n",
    "            hidden_matrix[i][j] = _partition_function(beta, data[j], center[i]) / sum\n",
    "\n",
    "\n",
    "    return hidden_matrix\n",
    "\n",
    "hidden_matrix = _E_step_a(data_j, cluster_c, beta)\n",
    "hidden_matrix\n",
    "\n"
   ]
  },
  {
   "cell_type": "markdown",
   "metadata": {},
   "source": [
    "### (b). Using the assignments you made in (a), compute the M-step."
   ]
  },
  {
   "cell_type": "code",
   "execution_count": 20,
   "metadata": {},
   "outputs": [
    {
     "data": {
      "text/plain": [
       "[[1.7127067587075437, 0.46575952602088455],\n",
       " [1.8017961268475913, 0.37298421952578614],\n",
       " [2.1663697397259987, 0.464545536710244]]"
      ]
     },
     "execution_count": 20,
     "metadata": {},
     "output_type": "execute_result"
    }
   ],
   "source": [
    "def _M_step_a(hidden_matrix, data):\n",
    "    x_i1 = []\n",
    "    x_i2 = []\n",
    "    uni_vec = [1] * 6\n",
    "    center = [[0] * 2 for i in range(3)]\n",
    "\n",
    "    for i in data:\n",
    "        x_i1.append(i[0])\n",
    "        x_i2.append(i[1])\n",
    "\n",
    "    for i in range(len(center)):\n",
    "        center[i][0] = _dot_product(hidden_matrix[i], x_i1) / _dot_product(hidden_matrix[i], uni_vec)\n",
    "        center[i][1] = _dot_product(hidden_matrix[i], x_i2) / _dot_product(hidden_matrix[i], uni_vec)\n",
    "\n",
    "    return center\n",
    "\n",
    "_M_step_a(hidden_matrix=hidden_matrix, data=data_j)\n"
   ]
  },
  {
   "cell_type": "markdown",
   "metadata": {},
   "source": [
    "### (c). Using the Newtonian inverse-square law of gravitation, compute the E-step."
   ]
  },
  {
   "cell_type": "code",
   "execution_count": 24,
   "metadata": {},
   "outputs": [
    {
     "data": {
      "text/plain": [
       "[[0.24264583679574545,\n",
       "  0.11764705882352938,\n",
       "  0.04229502513433871,\n",
       "  0.3000710227272727,\n",
       "  0.29570116861435725,\n",
       "  0.301284974459967],\n",
       " [0.5944823001495761,\n",
       "  0.7647058823529412,\n",
       "  0.8987692841046975,\n",
       "  0.15980113636363633,\n",
       "  0.13564273789649417,\n",
       "  0.3329311543125985],\n",
       " [0.16287186305467838,\n",
       "  0.11764705882352944,\n",
       "  0.05893569076096377,\n",
       "  0.5401278409090909,\n",
       "  0.5686560934891486,\n",
       "  0.36578387122743455]]"
      ]
     },
     "execution_count": 24,
     "metadata": {},
     "output_type": "execute_result"
    }
   ],
   "source": [
    "def _partition_function_c(data, center):\n",
    "    return 1/_find_distance(data, center)**2\n",
    "\n",
    "def _sum_c(data, center):\n",
    "    sum = 0\n",
    "    for i in center:\n",
    "        sum += _partition_function_c(data=data, center=i)\n",
    "\n",
    "    return sum\n",
    "\n",
    "def _E_step_c(data, center):\n",
    "    hidden_matrix = [[0]*6 for i in range(3)]\n",
    "\n",
    "    for i in range(len(center)):\n",
    "        for j in range(len(data)):\n",
    "            sum = _sum_c(data[j], center)\n",
    "            hidden_matrix[i][j] = _partition_function_c(data[j], center[i]) / sum\n",
    "\n",
    "\n",
    "    return hidden_matrix\n",
    "\n",
    "\n",
    "\n",
    "hiddenMatrix = _E_step_c(data_j, cluster_c)\n",
    "hiddenMatrix"
   ]
  },
  {
   "cell_type": "markdown",
   "metadata": {},
   "source": [
    "### (d). Using the assignments you made in (c), compute the M-step."
   ]
  },
  {
   "cell_type": "code",
   "execution_count": 25,
   "metadata": {},
   "outputs": [
    {
     "data": {
      "text/plain": [
       "[[2.5458329085157407, 0.5741634960914257],\n",
       " [1.2980888076713388, 0.1926542649393067],\n",
       " [2.395011670363753, 0.7153864004819717]]"
      ]
     },
     "execution_count": 25,
     "metadata": {},
     "output_type": "execute_result"
    }
   ],
   "source": [
    "def _M_step_a(hidden_matrix, data):\n",
    "    x_i1 = []\n",
    "    x_i2 = []\n",
    "    uni_vec = [1] * 6\n",
    "    center = [[0] * 2 for i in range(3)]\n",
    "\n",
    "    for i in data:\n",
    "        x_i1.append(i[0])\n",
    "        x_i2.append(i[1])\n",
    "\n",
    "    for i in range(len(center)):\n",
    "        center[i][0] = _dot_product(hidden_matrix[i], x_i1) / _dot_product(hidden_matrix[i], uni_vec)\n",
    "        center[i][1] = _dot_product(hidden_matrix[i], x_i2) / _dot_product(hidden_matrix[i], uni_vec)\n",
    "\n",
    "    return center\n",
    "\n",
    "_M_step_a(hidden_matrix=hiddenMatrix, data=data_j)"
   ]
  },
  {
   "cell_type": "markdown",
   "metadata": {},
   "source": [
    "### (e) Any observations comparing the two different distance functions?"
   ]
  },
  {
   "cell_type": "markdown",
   "metadata": {},
   "source": [
    "As I can observe from the updated centers for two different distance functions, the first center and the third center points stayed more or less the same for both method. The big difference is that for the second cluster center, it was (0.44, 0.39) with one method and now becomes (0.27, 0.09) with the other one."
   ]
  }
 ],
 "metadata": {
  "interpreter": {
   "hash": "31f2aee4e71d21fbe5cf8b01ff0e069b9275f58929596ceb00d14d90e3e16cd6"
  },
  "kernelspec": {
   "display_name": "Python 3.8.2 64-bit",
   "language": "python",
   "name": "python3"
  },
  "language_info": {
   "codemirror_mode": {
    "name": "ipython",
    "version": 3
   },
   "file_extension": ".py",
   "mimetype": "text/x-python",
   "name": "python",
   "nbconvert_exporter": "python",
   "pygments_lexer": "ipython3",
   "version": "3.8.2"
  },
  "orig_nbformat": 4
 },
 "nbformat": 4,
 "nbformat_minor": 2
}
