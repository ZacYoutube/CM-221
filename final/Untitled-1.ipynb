{
 "cells": [
  {
   "cell_type": "code",
   "execution_count": 1,
   "metadata": {},
   "outputs": [],
   "source": [
    "import pandas as pd\n",
    "import numpy as np\n",
    "import matplotlib.pyplot as plt\n",
    "import math\n",
    "from scipy.stats import t\n"
   ]
  },
  {
   "cell_type": "code",
   "execution_count": 2,
   "metadata": {},
   "outputs": [
    {
     "data": {
      "text/html": [
       "<div>\n",
       "<style scoped>\n",
       "    .dataframe tbody tr th:only-of-type {\n",
       "        vertical-align: middle;\n",
       "    }\n",
       "\n",
       "    .dataframe tbody tr th {\n",
       "        vertical-align: top;\n",
       "    }\n",
       "\n",
       "    .dataframe thead th {\n",
       "        text-align: right;\n",
       "    }\n",
       "</style>\n",
       "<table border=\"1\" class=\"dataframe\">\n",
       "  <thead>\n",
       "    <tr style=\"text-align: right;\">\n",
       "      <th></th>\n",
       "      <th>0</th>\n",
       "      <th>1</th>\n",
       "    </tr>\n",
       "  </thead>\n",
       "  <tbody>\n",
       "    <tr>\n",
       "      <th>0</th>\n",
       "      <td>0.072435</td>\n",
       "      <td>0.004788</td>\n",
       "    </tr>\n",
       "    <tr>\n",
       "      <th>1</th>\n",
       "      <td>-0.093958</td>\n",
       "      <td>0.118346</td>\n",
       "    </tr>\n",
       "    <tr>\n",
       "      <th>2</th>\n",
       "      <td>1.637295</td>\n",
       "      <td>0.021868</td>\n",
       "    </tr>\n",
       "    <tr>\n",
       "      <th>3</th>\n",
       "      <td>0.266178</td>\n",
       "      <td>-0.042178</td>\n",
       "    </tr>\n",
       "    <tr>\n",
       "      <th>4</th>\n",
       "      <td>0.672105</td>\n",
       "      <td>-0.403411</td>\n",
       "    </tr>\n",
       "    <tr>\n",
       "      <th>...</th>\n",
       "      <td>...</td>\n",
       "      <td>...</td>\n",
       "    </tr>\n",
       "    <tr>\n",
       "      <th>195</th>\n",
       "      <td>9.864852</td>\n",
       "      <td>8.486013</td>\n",
       "    </tr>\n",
       "    <tr>\n",
       "      <th>196</th>\n",
       "      <td>9.934785</td>\n",
       "      <td>9.162691</td>\n",
       "    </tr>\n",
       "    <tr>\n",
       "      <th>197</th>\n",
       "      <td>11.232787</td>\n",
       "      <td>8.870784</td>\n",
       "    </tr>\n",
       "    <tr>\n",
       "      <th>198</th>\n",
       "      <td>7.948785</td>\n",
       "      <td>10.471377</td>\n",
       "    </tr>\n",
       "    <tr>\n",
       "      <th>199</th>\n",
       "      <td>10.613488</td>\n",
       "      <td>10.619704</td>\n",
       "    </tr>\n",
       "  </tbody>\n",
       "</table>\n",
       "<p>200 rows × 2 columns</p>\n",
       "</div>"
      ],
      "text/plain": [
       "             0          1\n",
       "0     0.072435   0.004788\n",
       "1    -0.093958   0.118346\n",
       "2     1.637295   0.021868\n",
       "3     0.266178  -0.042178\n",
       "4     0.672105  -0.403411\n",
       "..         ...        ...\n",
       "195   9.864852   8.486013\n",
       "196   9.934785   9.162691\n",
       "197  11.232787   8.870784\n",
       "198   7.948785  10.471377\n",
       "199  10.613488  10.619704\n",
       "\n",
       "[200 rows x 2 columns]"
      ]
     },
     "execution_count": 2,
     "metadata": {},
     "output_type": "execute_result"
    }
   ],
   "source": [
    "final_data = pd.read_csv('problem1.tsv', delimiter='\\t', header=None)\n",
    "final_data"
   ]
  },
  {
   "cell_type": "markdown",
   "metadata": {},
   "source": [
    "# Question 1"
   ]
  },
  {
   "cell_type": "markdown",
   "metadata": {},
   "source": [
    "### (a) Implement the pj|i matrix."
   ]
  },
  {
   "cell_type": "code",
   "execution_count": 27,
   "metadata": {},
   "outputs": [],
   "source": [
    "# for part (a)\n",
    "def compute_neighbors_for_p(data, x_i, sigma_sq):\n",
    "    x_ = data[x_i]\n",
    "    list_of_neighbors = []\n",
    "\n",
    "    for i in range(data.shape[0]):\n",
    "        if i != x_i:\n",
    "            neighbor = data[i]\n",
    "            distance = np.exp(-math.dist(x_ , neighbor) ** 2 / 2 * sigma_sq)\n",
    "\n",
    "            list_of_neighbors.append(distance)\n",
    "\n",
    "    return list_of_neighbors\n",
    "\n",
    "def compute_p_x_on_y(data, x_i, x_j, sigma_sq):\n",
    "    x_1 = data[x_i]\n",
    "    x_2 = data[x_j]\n",
    "    numerator = np.exp(-math.dist(x_1, x_2) ** 2 / 2 * sigma_sq)\n",
    "    denominator = 0\n",
    "    neighbors = compute_neighbors_for_p(data, x_i, sigma_sq)\n",
    "    for i in neighbors:\n",
    "        denominator+=i\n",
    "\n",
    "\n",
    "    p_ij = numerator / denominator\n",
    "\n",
    "    return p_ij\n",
    "\n",
    "# for part (b)\n",
    "def compute_p_ij(data, sigma_sq):\n",
    "    num_pts = data.shape[0]\n",
    "    matrix = np.zeros((num_pts, num_pts))\n",
    "    for i in range(num_pts):\n",
    "        for j in range(num_pts):\n",
    "            if i != j:\n",
    "                p_i_on_j = compute_p_x_on_y(np.array(data), i, j, sigma_sq)\n",
    "                p_j_on_i = compute_p_x_on_y(np.array(data), j, i, sigma_sq)\n",
    "                p_ij =  (p_j_on_i + p_i_on_j) / (2 * num_pts)\n",
    "                matrix[i][j] = p_ij\n",
    "    \n",
    "    return matrix"
   ]
  },
  {
   "cell_type": "code",
   "execution_count": 4,
   "metadata": {},
   "outputs": [
    {
     "data": {
      "text/plain": [
       "array([[0.00000000e+00, 1.11432421e-02, 9.87897255e-03, ...,\n",
       "        4.32856653e-07, 2.09865903e-06, 1.54294253e-07],\n",
       "       [1.11590305e-02, 0.00000000e+00, 9.62102601e-03, ...,\n",
       "        3.97332071e-07, 2.07193743e-06, 1.45968728e-07],\n",
       "       [1.10430613e-02, 1.07395032e-02, 0.00000000e+00, ...,\n",
       "        2.49221596e-06, 7.24747601e-06, 8.08724239e-07],\n",
       "       ...,\n",
       "       [4.96880956e-07, 4.55456574e-07, 2.55927069e-06, ...,\n",
       "        0.00000000e+00, 6.57633760e-03, 1.07907962e-02],\n",
       "       [2.49249426e-06, 2.45727644e-06, 7.70018862e-06, ...,\n",
       "        6.80405986e-03, 0.00000000e+00, 9.28792966e-03],\n",
       "       [1.56762158e-07, 1.48093639e-07, 7.35045524e-07, ...,\n",
       "        9.55073333e-03, 7.94544304e-03, 0.00000000e+00]])"
      ]
     },
     "execution_count": 4,
     "metadata": {},
     "output_type": "execute_result"
    }
   ],
   "source": [
    "# part (a)\n",
    "q1_matrix = np.zeros((final_data.shape[0],final_data.shape[0]))\n",
    "for i in range(final_data.shape[0]):\n",
    "    for j in range(final_data.shape[0]):        \n",
    "        if(i != j):\n",
    "            q1_matrix[i][j] = compute_p_x_on_y(np.array(final_data), i, j, 0.1)\n",
    "\n",
    "q1_matrix"
   ]
  },
  {
   "cell_type": "code",
   "execution_count": 99,
   "metadata": {},
   "outputs": [
    {
     "name": "stdout",
     "output_type": "stream",
     "text": [
      " index 0 the sume is: 1.0\n",
      " index 1 the sume is: 1.0\n",
      " index 2 the sume is: 0.9999999999999988\n",
      " index 3 the sume is: 0.9999999999999994\n",
      " index 4 the sume is: 0.9999999999999999\n",
      " index 5 the sume is: 1.0000000000000009\n",
      " index 6 the sume is: 0.9999999999999999\n",
      " index 7 the sume is: 0.9999999999999998\n",
      " index 8 the sume is: 1.0000000000000004\n",
      " index 9 the sume is: 0.9999999999999996\n",
      " index 10 the sume is: 1.0000000000000004\n",
      " index 11 the sume is: 1.0000000000000009\n",
      " index 12 the sume is: 1.0000000000000004\n",
      " index 13 the sume is: 1.0000000000000004\n",
      " index 14 the sume is: 0.9999999999999992\n",
      " index 15 the sume is: 0.9999999999999998\n",
      " index 16 the sume is: 1.0000000000000009\n",
      " index 17 the sume is: 0.9999999999999998\n",
      " index 18 the sume is: 0.9999999999999996\n",
      " index 19 the sume is: 0.9999999999999998\n",
      " index 20 the sume is: 0.9999999999999999\n",
      " index 21 the sume is: 0.9999999999999998\n",
      " index 22 the sume is: 0.9999999999999981\n",
      " index 23 the sume is: 0.9999999999999996\n",
      " index 24 the sume is: 0.9999999999999996\n",
      " index 25 the sume is: 1.0000000000000004\n",
      " index 26 the sume is: 1.0000000000000004\n",
      " index 27 the sume is: 1.0\n",
      " index 28 the sume is: 0.9999999999999997\n",
      " index 29 the sume is: 1.0\n",
      " index 30 the sume is: 0.9999999999999994\n",
      " index 31 the sume is: 1.0000000000000009\n",
      " index 32 the sume is: 0.9999999999999989\n",
      " index 33 the sume is: 1.0000000000000007\n",
      " index 34 the sume is: 0.9999999999999994\n",
      " index 35 the sume is: 1.0000000000000004\n",
      " index 36 the sume is: 1.0000000000000004\n",
      " index 37 the sume is: 0.9999999999999997\n",
      " index 38 the sume is: 1.0000000000000004\n",
      " index 39 the sume is: 1.0000000000000016\n",
      " index 40 the sume is: 0.9999999999999997\n",
      " index 41 the sume is: 1.000000000000001\n",
      " index 42 the sume is: 0.9999999999999996\n",
      " index 43 the sume is: 1.0000000000000002\n",
      " index 44 the sume is: 1.0\n",
      " index 45 the sume is: 0.9999999999999994\n",
      " index 46 the sume is: 0.9999999999999994\n",
      " index 47 the sume is: 1.0000000000000004\n",
      " index 48 the sume is: 1.0000000000000002\n",
      " index 49 the sume is: 1.0000000000000004\n",
      " index 50 the sume is: 1.0000000000000002\n",
      " index 51 the sume is: 0.9999999999999996\n",
      " index 52 the sume is: 1.0\n",
      " index 53 the sume is: 1.0000000000000002\n",
      " index 54 the sume is: 1.0000000000000002\n",
      " index 55 the sume is: 1.0000000000000002\n",
      " index 56 the sume is: 0.9999999999999998\n",
      " index 57 the sume is: 0.9999999999999999\n",
      " index 58 the sume is: 0.9999999999999991\n",
      " index 59 the sume is: 0.9999999999999998\n",
      " index 60 the sume is: 1.0\n",
      " index 61 the sume is: 0.9999999999999997\n",
      " index 62 the sume is: 1.0000000000000007\n",
      " index 63 the sume is: 1.0000000000000007\n",
      " index 64 the sume is: 1.000000000000001\n",
      " index 65 the sume is: 0.9999999999999998\n",
      " index 66 the sume is: 1.0000000000000004\n",
      " index 67 the sume is: 1.0000000000000002\n",
      " index 68 the sume is: 0.9999999999999998\n",
      " index 69 the sume is: 1.0\n",
      " index 70 the sume is: 0.9999999999999994\n",
      " index 71 the sume is: 1.0000000000000007\n",
      " index 72 the sume is: 1.0000000000000002\n",
      " index 73 the sume is: 0.9999999999999997\n",
      " index 74 the sume is: 0.9999999999999997\n",
      " index 75 the sume is: 0.9999999999999992\n",
      " index 76 the sume is: 1.0000000000000007\n",
      " index 77 the sume is: 0.9999999999999994\n",
      " index 78 the sume is: 0.999999999999999\n",
      " index 79 the sume is: 0.9999999999999998\n",
      " index 80 the sume is: 0.9999999999999996\n",
      " index 81 the sume is: 1.000000000000001\n",
      " index 82 the sume is: 1.0000000000000007\n",
      " index 83 the sume is: 0.9999999999999998\n",
      " index 84 the sume is: 0.9999999999999998\n",
      " index 85 the sume is: 0.9999999999999996\n",
      " index 86 the sume is: 1.0\n",
      " index 87 the sume is: 0.9999999999999996\n",
      " index 88 the sume is: 1.0000000000000007\n",
      " index 89 the sume is: 1.0000000000000002\n",
      " index 90 the sume is: 1.0000000000000007\n",
      " index 91 the sume is: 1.0000000000000009\n",
      " index 92 the sume is: 1.0000000000000007\n",
      " index 93 the sume is: 0.999999999999999\n",
      " index 94 the sume is: 1.0000000000000004\n",
      " index 95 the sume is: 1.0000000000000002\n",
      " index 96 the sume is: 1.0000000000000004\n",
      " index 97 the sume is: 1.000000000000001\n",
      " index 98 the sume is: 0.9999999999999999\n",
      " index 99 the sume is: 0.9999999999999996\n",
      " index 100 the sume is: 1.0\n",
      " index 101 the sume is: 1.0000000000000002\n",
      " index 102 the sume is: 1.0000000000000007\n",
      " index 103 the sume is: 1.0000000000000002\n",
      " index 104 the sume is: 1.0000000000000004\n",
      " index 105 the sume is: 0.9999999999999996\n",
      " index 106 the sume is: 1.0000000000000002\n",
      " index 107 the sume is: 0.9999999999999999\n",
      " index 108 the sume is: 0.9999999999999994\n",
      " index 109 the sume is: 0.9999999999999999\n",
      " index 110 the sume is: 1.0\n",
      " index 111 the sume is: 0.9999999999999994\n",
      " index 112 the sume is: 1.0000000000000002\n",
      " index 113 the sume is: 1.0000000000000004\n",
      " index 114 the sume is: 0.9999999999999996\n",
      " index 115 the sume is: 0.9999999999999996\n",
      " index 116 the sume is: 0.9999999999999996\n",
      " index 117 the sume is: 0.9999999999999999\n",
      " index 118 the sume is: 0.9999999999999998\n",
      " index 119 the sume is: 0.9999999999999993\n",
      " index 120 the sume is: 1.0\n",
      " index 121 the sume is: 0.9999999999999997\n",
      " index 122 the sume is: 1.0\n",
      " index 123 the sume is: 0.9999999999999999\n",
      " index 124 the sume is: 1.0\n",
      " index 125 the sume is: 1.0000000000000002\n",
      " index 126 the sume is: 1.0000000000000002\n",
      " index 127 the sume is: 1.0000000000000002\n",
      " index 128 the sume is: 0.9999999999999999\n",
      " index 129 the sume is: 1.0000000000000002\n",
      " index 130 the sume is: 0.9999999999999999\n",
      " index 131 the sume is: 0.9999999999999999\n",
      " index 132 the sume is: 1.0000000000000002\n",
      " index 133 the sume is: 0.9999999999999994\n",
      " index 134 the sume is: 1.0000000000000002\n",
      " index 135 the sume is: 1.0\n",
      " index 136 the sume is: 1.0000000000000002\n",
      " index 137 the sume is: 0.9999999999999997\n",
      " index 138 the sume is: 1.0000000000000007\n",
      " index 139 the sume is: 1.0000000000000007\n",
      " index 140 the sume is: 1.0\n",
      " index 141 the sume is: 1.0000000000000002\n",
      " index 142 the sume is: 1.0000000000000002\n",
      " index 143 the sume is: 1.0000000000000002\n",
      " index 144 the sume is: 1.0000000000000004\n",
      " index 145 the sume is: 0.9999999999999999\n",
      " index 146 the sume is: 1.0\n",
      " index 147 the sume is: 0.9999999999999993\n",
      " index 148 the sume is: 1.0000000000000004\n",
      " index 149 the sume is: 0.9999999999999999\n",
      " index 150 the sume is: 1.0\n",
      " index 151 the sume is: 1.0\n",
      " index 152 the sume is: 0.9999999999999996\n",
      " index 153 the sume is: 1.0000000000000002\n",
      " index 154 the sume is: 1.0\n",
      " index 155 the sume is: 0.9999999999999998\n",
      " index 156 the sume is: 1.0000000000000004\n",
      " index 157 the sume is: 1.0000000000000004\n",
      " index 158 the sume is: 0.9999999999999997\n",
      " index 159 the sume is: 1.0000000000000004\n",
      " index 160 the sume is: 0.9999999999999999\n",
      " index 161 the sume is: 1.0000000000000002\n",
      " index 162 the sume is: 1.0000000000000002\n",
      " index 163 the sume is: 0.9999999999999998\n",
      " index 164 the sume is: 0.9999999999999998\n",
      " index 165 the sume is: 0.9999999999999998\n",
      " index 166 the sume is: 1.0\n",
      " index 167 the sume is: 1.0000000000000004\n",
      " index 168 the sume is: 1.0\n",
      " index 169 the sume is: 0.9999999999999998\n",
      " index 170 the sume is: 0.9999999999999996\n",
      " index 171 the sume is: 1.0000000000000002\n",
      " index 172 the sume is: 1.0000000000000004\n",
      " index 173 the sume is: 0.9999999999999997\n",
      " index 174 the sume is: 0.9999999999999993\n",
      " index 175 the sume is: 0.9999999999999999\n",
      " index 176 the sume is: 1.0\n",
      " index 177 the sume is: 0.9999999999999999\n",
      " index 178 the sume is: 0.9999999999999998\n",
      " index 179 the sume is: 0.9999999999999998\n",
      " index 180 the sume is: 0.9999999999999999\n",
      " index 181 the sume is: 1.0000000000000004\n",
      " index 182 the sume is: 0.9999999999999998\n",
      " index 183 the sume is: 0.9999999999999999\n",
      " index 184 the sume is: 0.9999999999999996\n",
      " index 185 the sume is: 1.0000000000000002\n",
      " index 186 the sume is: 1.0000000000000002\n",
      " index 187 the sume is: 1.0\n",
      " index 188 the sume is: 1.0\n",
      " index 189 the sume is: 1.0\n",
      " index 190 the sume is: 0.9999999999999999\n",
      " index 191 the sume is: 1.0000000000000002\n",
      " index 192 the sume is: 1.0\n",
      " index 193 the sume is: 0.9999999999999998\n",
      " index 194 the sume is: 0.9999999999999993\n",
      " index 195 the sume is: 1.0\n",
      " index 196 the sume is: 1.0000000000000007\n",
      " index 197 the sume is: 1.0000000000000002\n",
      " index 198 the sume is: 0.9999999999999997\n",
      " index 199 the sume is: 1.0\n"
     ]
    }
   ],
   "source": [
    "for i in range(len(q1_matrix)):\n",
    "    print(' index',i, 'the sume is:',q1_matrix[i].sum())"
   ]
  },
  {
   "cell_type": "markdown",
   "metadata": {},
   "source": [
    "### (b). Implement the pij matrix"
   ]
  },
  {
   "cell_type": "code",
   "execution_count": 84,
   "metadata": {},
   "outputs": [
    {
     "data": {
      "text/plain": [
       "array([[0.00000000e+00, 5.57556814e-05, 5.23050847e-05, ...,\n",
       "        2.32434402e-09, 1.14778832e-08, 7.77641027e-10],\n",
       "       [5.57556814e-05, 0.00000000e+00, 5.09013231e-05, ...,\n",
       "        2.13197161e-09, 1.13230347e-08, 7.35155918e-10],\n",
       "       [5.23050847e-05, 5.09013231e-05, 0.00000000e+00, ...,\n",
       "        1.26287166e-08, 3.73691616e-08, 3.85942441e-09],\n",
       "       ...,\n",
       "       [2.32434402e-09, 2.13197161e-09, 1.26287166e-08, ...,\n",
       "        0.00000000e+00, 3.34509936e-05, 5.08538239e-05],\n",
       "       [1.14778832e-08, 1.13230347e-08, 3.73691616e-08, ...,\n",
       "        3.34509936e-05, 0.00000000e+00, 4.30834318e-05],\n",
       "       [7.77641027e-10, 7.35155918e-10, 3.85942441e-09, ...,\n",
       "        5.08538239e-05, 4.30834318e-05, 0.00000000e+00]])"
      ]
     },
     "execution_count": 84,
     "metadata": {},
     "output_type": "execute_result"
    }
   ],
   "source": [
    "# part (b)\n",
    "\n",
    "q2_matrix = compute_p_ij(final_data, 0.1)\n",
    "q2_matrix"
   ]
  },
  {
   "cell_type": "code",
   "execution_count": 85,
   "metadata": {},
   "outputs": [
    {
     "data": {
      "text/plain": [
       "1.0"
      ]
     },
     "execution_count": 85,
     "metadata": {},
     "output_type": "execute_result"
    }
   ],
   "source": [
    "q2_matrix.sum()"
   ]
  },
  {
   "cell_type": "markdown",
   "metadata": {},
   "source": [
    "### (c) Using σ 2 = 1, plot the entire dataset and color the points based on their probability relative to the first data point. To be rigorous: p1j is the vector of probabilities of “j picking 1 as its neighbor”. A reasonable color scale might be: wj ∝ p1j/maxk(p1k). Your plot should show a change of color away from the first data point. Do the same for σ 2 = {0.1, 10, 100}. Each plot might look something like this:"
   ]
  },
  {
   "cell_type": "code",
   "execution_count": 86,
   "metadata": {},
   "outputs": [],
   "source": [
    "# part (c)\n",
    "q3_matrix_1 = q2_matrix\n",
    "q3_matrix_2 = compute_p_ij(final_data, 1)\n",
    "q3_matrix_3 = compute_p_ij(final_data, 10)\n",
    "q3_matrix_4 = compute_p_ij(final_data, 100)"
   ]
  },
  {
   "cell_type": "code",
   "execution_count": 114,
   "metadata": {},
   "outputs": [
    {
     "name": "stdout",
     "output_type": "stream",
     "text": [
      "1.0 1.0 1.0 1.0\n"
     ]
    }
   ],
   "source": [
    "print(q3_matrix_1.sum(), q3_matrix_2.sum(), q3_matrix_3.sum(), q3_matrix_4.sum())"
   ]
  },
  {
   "cell_type": "code",
   "execution_count": 113,
   "metadata": {},
   "outputs": [
    {
     "data": {
      "text/plain": [
       "<matplotlib.collections.PathCollection at 0x1192ddf70>"
      ]
     },
     "execution_count": 113,
     "metadata": {},
     "output_type": "execute_result"
    },
    {
     "data": {
      "image/png": "[encoded data removed]",
      "text/plain": [
       "<Figure size 432x288 with 1 Axes>"
      ]
     },
     "metadata": {
      "needs_background": "light"
     },
     "output_type": "display_data"
    }
   ],
   "source": [
    "p_1j = q3_matrix_2[:,0]\n",
    "\n",
    "color_scale = p_1j / max(p_1j)\n",
    "\n",
    "plt.title('For sigma square 1')\n",
    "plt.scatter(final_data[0], final_data[1], c=color_scale)"
   ]
  },
  {
   "cell_type": "code",
   "execution_count": 115,
   "metadata": {},
   "outputs": [
    {
     "data": {
      "text/plain": [
       "<matplotlib.collections.PathCollection at 0x11934f490>"
      ]
     },
     "execution_count": 115,
     "metadata": {},
     "output_type": "execute_result"
    },
    {
     "data": {
      "image/png": "[encoded data removed]",
      "text/plain": [
       "<Figure size 432x288 with 1 Axes>"
      ]
     },
     "metadata": {
      "needs_background": "light"
     },
     "output_type": "display_data"
    }
   ],
   "source": [
    "p_1j = q3_matrix_1[:,0]\n",
    "\n",
    "color_scale = p_1j / max(p_1j)\n",
    "\n",
    "plt.title('For sigma square 0.1')\n",
    "plt.scatter(final_data[0], final_data[1], c=color_scale)"
   ]
  },
  {
   "cell_type": "code",
   "execution_count": 116,
   "metadata": {},
   "outputs": [
    {
     "data": {
      "text/plain": [
       "<matplotlib.collections.PathCollection at 0x1193aa250>"
      ]
     },
     "execution_count": 116,
     "metadata": {},
     "output_type": "execute_result"
    },
    {
     "data": {
      "image/png": "[encoded data removed]",
      "text/plain": [
       "<Figure size 432x288 with 1 Axes>"
      ]
     },
     "metadata": {
      "needs_background": "light"
     },
     "output_type": "display_data"
    }
   ],
   "source": [
    "p_1j = q3_matrix_3[:,0]\n",
    "\n",
    "color_scale = p_1j / max(p_1j)\n",
    "\n",
    "plt.title('For sigma square 10')\n",
    "plt.scatter(final_data[0], final_data[1], c=color_scale)"
   ]
  },
  {
   "cell_type": "code",
   "execution_count": 122,
   "metadata": {},
   "outputs": [
    {
     "data": {
      "text/plain": [
       "<matplotlib.collections.PathCollection at 0x11964b820>"
      ]
     },
     "execution_count": 122,
     "metadata": {},
     "output_type": "execute_result"
    },
    {
     "data": {
      "image/png": "[encoded data removed]",
      "text/plain": [
       "<Figure size 432x288 with 1 Axes>"
      ]
     },
     "metadata": {
      "needs_background": "light"
     },
     "output_type": "display_data"
    }
   ],
   "source": [
    "p_1j = q3_matrix_4[:,0]\n",
    "\n",
    "color_scale = p_1j / max(p_1j)\n",
    "\n",
    "plt.title('For sigma square 100')\n",
    "plt.scatter(final_data[0], final_data[1], c=color_scale)"
   ]
  },
  {
   "cell_type": "markdown",
   "metadata": {},
   "source": [
    "### (d) Implement the qij matrix. Sanity check: the entire matrix should sum to 1."
   ]
  },
  {
   "cell_type": "code",
   "execution_count": 78,
   "metadata": {},
   "outputs": [],
   "source": [
    "def compute_neighbors_for_q(data, y_i):\n",
    "    y_ = data[y_i]\n",
    "    list_of_neighbors = []\n",
    "\n",
    "    for i in range(data.shape[0]):\n",
    "        if i != y_i:\n",
    "            neighbor = data[i]\n",
    "            distance = (1+math.dist(y_,neighbor)**2)**(-1)\n",
    "\n",
    "            list_of_neighbors.append(distance)\n",
    "\n",
    "    return list_of_neighbors\n",
    "\n",
    "def compute_q_x_on_y(data, y_i, y_j):\n",
    "    y_1 = data[y_i]\n",
    "    y_2 = data[y_j]\n",
    "    numerator = (1+math.dist(y_1,y_2)**2)**(-1)\n",
    "    denominator = 0\n",
    "    neighbors = compute_neighbors_for_q(data, y_i)\n",
    "    for i in neighbors:\n",
    "        denominator+=i\n",
    "\n",
    "    q_ij = numerator / denominator\n",
    "\n",
    "    return q_ij\n",
    "\n",
    "\n",
    "def compute_q_ij(data):\n",
    "    num_pts = data.shape[0]\n",
    "    matrix = np.zeros((num_pts, num_pts))\n",
    "\n",
    "    for i in range(num_pts):\n",
    "        for j in range(num_pts):\n",
    "            if i != j:\n",
    "                q_ij = compute_q_x_on_y(np.array(data), i, j)\n",
    "                matrix[i][j] = q_ij / num_pts\n",
    "\n",
    "    return matrix\n"
   ]
  },
  {
   "cell_type": "code",
   "execution_count": 79,
   "metadata": {},
   "outputs": [
    {
     "data": {
      "text/plain": [
       "array([[0.00000000e+00, 1.06896454e-04, 3.22505347e-05, ...,\n",
       "        5.44841927e-07, 6.44515285e-07, 4.94837171e-07],\n",
       "       [1.07766725e-04, 0.00000000e+00, 2.79892351e-05, ...,\n",
       "        5.44633176e-07, 6.48692712e-07, 4.96353642e-07],\n",
       "       [4.76452450e-05, 4.10159039e-05, 0.00000000e+00, ...,\n",
       "        9.58893560e-07, 1.09534894e-06, 8.47569944e-07],\n",
       "       ...,\n",
       "       [1.00804851e-06, 9.99524899e-07, 1.20087739e-06, ...,\n",
       "        0.00000000e+00, 1.43450728e-05, 4.63284128e-05],\n",
       "       [1.29427116e-06, 1.29214034e-06, 1.48888756e-06, ...,\n",
       "        1.55698309e-05, 0.00000000e+00, 2.75001201e-05],\n",
       "       [5.46778542e-07, 5.44025144e-07, 6.33931088e-07, ...,\n",
       "        2.76685026e-05, 1.51318381e-05, 0.00000000e+00]])"
      ]
     },
     "execution_count": 79,
     "metadata": {},
     "output_type": "execute_result"
    }
   ],
   "source": [
    "q_ij_matrix = compute_q_ij(final_data)\n",
    "q_ij_matrix"
   ]
  },
  {
   "cell_type": "code",
   "execution_count": 80,
   "metadata": {},
   "outputs": [
    {
     "data": {
      "text/plain": [
       "1.0"
      ]
     },
     "execution_count": 80,
     "metadata": {},
     "output_type": "execute_result"
    }
   ],
   "source": [
    "q_ij_matrix.sum()"
   ]
  },
  {
   "cell_type": "markdown",
   "metadata": {},
   "source": [
    "### (e) Plot the entire dataset and color the points based on their q1j probability relative to the first data point. How is it different than the p1j plot from (c) when σ 2 i = 1?"
   ]
  },
  {
   "cell_type": "code",
   "execution_count": 82,
   "metadata": {},
   "outputs": [
    {
     "data": {
      "text/plain": [
       "<matplotlib.collections.PathCollection at 0x11cbb9250>"
      ]
     },
     "execution_count": 82,
     "metadata": {},
     "output_type": "execute_result"
    },
    {
     "data": {
      "image/png": "[encoded data removed]",
      "text/plain": [
       "<Figure size 432x288 with 1 Axes>"
      ]
     },
     "metadata": {
      "needs_background": "light"
     },
     "output_type": "display_data"
    }
   ],
   "source": [
    "p_1j = q_ij_matrix[:,0]\n",
    "\n",
    "plt.title('For q_ij visualization')\n",
    "plt.scatter(final_data[0], final_data[1], c=p_1j)"
   ]
  },
  {
   "cell_type": "markdown",
   "metadata": {},
   "source": []
  },
  {
   "cell_type": "markdown",
   "metadata": {},
   "source": [
    "###  (f). Implement the KL-divergence. Note, the contribution of {ij} is zero when pij = 0."
   ]
  },
  {
   "cell_type": "code",
   "execution_count": 36,
   "metadata": {},
   "outputs": [],
   "source": [
    "def kl_divergence(p_matrix, q_matrix):\n",
    "    sum = 0\n",
    "    for i in range(p_matrix.shape[0]):\n",
    "        for j in range(q_matrix.shape[0]):\n",
    "            if p_matrix[i][j] != 0 and q_matrix[i][j] != 0: # if q is 0 then undefined division, if p is 0, then there's no contribution of {ij} we can ignore it\n",
    "                sum = sum + p_matrix[i][j] * math.log(p_matrix[i][j] / q_matrix[i][j])\n",
    "\n",
    "    return sum"
   ]
  },
  {
   "cell_type": "markdown",
   "metadata": {},
   "source": [
    "### (g). Using the real data as the low-dimensional projection, compute the KL-divergence when:"
   ]
  },
  {
   "cell_type": "code",
   "execution_count": 87,
   "metadata": {},
   "outputs": [],
   "source": [
    "q_matrix = q_ij_matrix \n",
    "p_matrix_1 = q2_matrix #here the sigma i tested in q2 is 0.1\n",
    "p_matrix_2 = q3_matrix_2 #where the sigma is 1\n",
    "p_matrix_3 = q3_matrix_4 #where the sigma is 100"
   ]
  },
  {
   "cell_type": "code",
   "execution_count": 88,
   "metadata": {},
   "outputs": [
    {
     "data": {
      "text/plain": [
       "0.14626369654805382"
      ]
     },
     "execution_count": 88,
     "metadata": {},
     "output_type": "execute_result"
    }
   ],
   "source": [
    "kl_divergence(p_matrix_1, q_matrix)"
   ]
  },
  {
   "cell_type": "code",
   "execution_count": 89,
   "metadata": {},
   "outputs": [
    {
     "data": {
      "text/plain": [
       "0.10326654539714238"
      ]
     },
     "execution_count": 89,
     "metadata": {},
     "output_type": "execute_result"
    }
   ],
   "source": [
    "kl_divergence(p_matrix_2, q_matrix)"
   ]
  },
  {
   "cell_type": "code",
   "execution_count": 90,
   "metadata": {},
   "outputs": [
    {
     "data": {
      "text/plain": [
       "2.8104061903535453"
      ]
     },
     "execution_count": 90,
     "metadata": {},
     "output_type": "execute_result"
    }
   ],
   "source": [
    "kl_divergence(p_matrix_3, q_matrix)"
   ]
  },
  {
   "cell_type": "markdown",
   "metadata": {},
   "source": []
  },
  {
   "cell_type": "markdown",
   "metadata": {},
   "source": [
    "### (h). Using σ2 = 1, can you find a projection that reduces the KL-divergence? Note, there are plenty linear or non-linear ones. The easiest might be to do might be ‘move’ one cluster. Plot the projection and report the KL-divergence."
   ]
  }
 ],
 "metadata": {
  "interpreter": {
   "hash": "31f2aee4e71d21fbe5cf8b01ff0e069b9275f58929596ceb00d14d90e3e16cd6"
  },
  "kernelspec": {
   "display_name": "Python 3.8.2 64-bit",
   "language": "python",
   "name": "python3"
  },
  "language_info": {
   "name": "python",
   "version": "3.8.2"
  },
  "orig_nbformat": 4
 },
 "nbformat": 4,
 "nbformat_minor": 2
}
